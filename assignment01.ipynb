{
  "nbformat": 4,
  "nbformat_minor": 0,
  "metadata": {
    "colab": {
      "name": "assignment01.ipynb",
      "provenance": [],
      "collapsed_sections": [],
      "authorship_tag": "ABX9TyNoCEcJSoOGh1kZV7/NaK3D",
      "include_colab_link": true
    },
    "kernelspec": {
      "name": "python3",
      "display_name": "Python 3"
    }
  },
  "cells": [
    {
      "cell_type": "markdown",
      "metadata": {
        "id": "view-in-github",
        "colab_type": "text"
      },
      "source": [
        "<a href=\"https://colab.research.google.com/github/gisungPark/AISchool/blob/master/assignment01.ipynb\" target=\"_parent\"><img src=\"https://colab.research.google.com/assets/colab-badge.svg\" alt=\"Open In Colab\"/></a>"
      ]
    },
    {
      "cell_type": "markdown",
      "metadata": {
        "id": "4HtPIfnTQXrT",
        "colab_type": "text"
      },
      "source": [
        "# 1. 개요\n",
        "\n",
        "인공지능 관련 기술은 빅데이터의 등장, 컴퓨팅 파워 개선 등 제반 기술력 개선과 관련 알고리즘의 발전에 힘입어 빠른 속도로 발전하고 있습니다. 특히 머신러닝의 일종인 딥러닝의 등장은 컴퓨터가 대량의 데이터를 기반으로 학습, 추론하는 것을 가능케 하고, 자연어 처리, 이미지 인식, 음성 인식 등 인공지능 관련 주요 분야의 성장을 이끌고 있습니다.\n",
        "\n",
        "그 중 제가 주목하고 싶은 분야는 이미지 인식 분야입니다. '컴퓨터 비전'이라 불리우는 인공지능 기반 이미지 인식 기술은 기계가 인간처럼 시각 자료를 '보고' 이해하도록 만드는 것을 목표로 합니다. \n",
        "\n",
        "\n",
        "# 2. 컴퓨터 비전(Computer Vision)\n",
        "\n",
        "* 컴퓨터 비전은 컴퓨터를 사용하여 인간의 시각적인 인식 능력을 구현하는 것을 목표로 합니다. 카메라로 촬영된 이미지나 영상을 분석하여 정보를 추출하는 것이 핵심입니다. \n",
        "\n",
        "\n",
        "# 3. 응용사례 \n",
        "* ### Bixby Vision\n",
        "\n",
        "  빅스비 비전은 삼성전자가 내놓은 비전 AI로, 다양한 인공지능 기술들을 선보이는 것이 특징입니다. 대표적으로 텍스트를 비췄을 때, 원하는 언어로 실시간 번역해주는 기능이 있습니다. 사진을 찍어 따로 검색하거나 텍스트로의 변환 과정 없이도 카메라로 보이는 화면에 바로 번역결과가 나오기 때문에 쉽고 간편합니다.\n",
        "\n",
        "  ![빅스비](https://img.kr.news.samsung.com/kr/wp-content/uploads/2018/05/bv-1t-11.png)\n",
        "\n",
        "  또한 내가 있는 장소와 내가 먹는 음식, 그리고 내가 좋아하는 연예인을 비추는 것만으로 다양한 추가 정보를 제공합니다. 특히 친구가 산 가방을 사고 싶다면, 빅스비 비전으로 친구 가방을 비추기만 해도 쇼핑 정보가 제공됩니다. \n",
        "\n",
        "* ### 구글 렌즈\n",
        "\n",
        "  구글 렌즈는 구글에서 내놓은 비전 AI로 빅스비와 마찬가지로 물체 식별, 관련 검색 기능 등을 제공합니다. 차별화된 기능이 있다면 카메라를 네트워크 이름과 비밀번호가 포함된 와이파이 레이블에 갖다대면 주사된 와이파이 정본원에 자동으로 연결하는 기능을 제공합니다.  \n",
        "\n",
        "  ![구글렌즈](https://pds.joins.com/news/component/htmlphoto_mmdata/201705/18/de87276f-7e16-4145-a36a-4afbe6b99c8a.jpg)\n",
        "\n",
        "\n",
        "* \n",
        "\n",
        "\n",
        "\n",
        ">참고 자료\n",
        ">* [주목받는 컴퓨터비전 기술:딥러닝 기반의 휴먼 포즈 에스티메이션](https://m.post.naver.com/viewer/postView.nhn?volumeNo=27784570&memberNo=36733075&vType=VERTICAL)\n",
        ">* [음성만 있나? 보는 인공지능 '비전 AI'의 현재](https://news.appstory.co.kr/plan10964)\n",
        ">* [갤럭시 S9 서비스열전 2. 정보를 탐색하는 또 다른 눈, 빅스비 비전](https://news.samsung.com/kr/%EA%B0%A4%EB%9F%AD%EC%8B%9C-s9-%EC%84%9C%EB%B9%84%EC%8A%A4%EC%97%B4%EC%A0%84-2-%EC%A0%95%EB%B3%B4%EB%A5%BC-%ED%83%90%EC%83%89%ED%95%98%EB%8A%94-%EB%98%90-%EB%8B%A4%EB%A5%B8-%EB%88%88-%EB%B9%85)\n",
        ">* [찍으면 다 알려주는 Google Lens 살펴보기](https://brunch.co.kr/@mezzomedia/35)\n",
        "\n",
        "\n",
        "\n",
        "\n",
        "\n"
      ]
    },
    {
      "cell_type": "markdown",
      "metadata": {
        "id": "7H7WaC1qpQn5",
        "colab_type": "text"
      },
      "source": [
        ""
      ]
    }
  ]
}