{
  "nbformat": 4,
  "nbformat_minor": 0,
  "metadata": {
    "colab": {
      "name": "Example01",
      "provenance": [],
      "collapsed_sections": [],
      "authorship_tag": "ABX9TyP6XK58XlBoETRB7x/e0Crk",
      "include_colab_link": true
    },
    "kernelspec": {
      "name": "python3",
      "display_name": "Python 3"
    }
  },
  "cells": [
    {
      "cell_type": "markdown",
      "metadata": {
        "id": "view-in-github",
        "colab_type": "text"
      },
      "source": [
        "<a href=\"https://colab.research.google.com/github/gisungPark/AISchool/blob/master/Example01.ipynb\" target=\"_parent\"><img src=\"https://colab.research.google.com/assets/colab-badge.svg\" alt=\"Open In Colab\"/></a>"
      ]
    },
    {
      "cell_type": "markdown",
      "metadata": {
        "id": "D8E8tj9xR7ip",
        "colab_type": "text"
      },
      "source": [
        "\n",
        "\n"
      ]
    },
    {
      "cell_type": "markdown",
      "metadata": {
        "id": "av6KMpbNSqgJ",
        "colab_type": "text"
      },
      "source": [
        "# 1강 요약정리\n",
        "\n",
        "* 파이썬 자료형\n"
      ]
    },
    {
      "cell_type": "code",
      "metadata": {
        "id": "Ni1cdAIBTKDn",
        "colab_type": "code",
        "outputId": "1ef2b265-d70f-4ed5-d580-a38066f2b436",
        "colab": {
          "base_uri": "https://localhost:8080/",
          "height": 52
        }
      },
      "source": [
        "def hello(name):\n",
        "  return f'환영합니다. {name}님!'\n",
        "\n",
        "name = input('이름을 입력해주세요')\n",
        "hello(name)"
      ],
      "execution_count": 0,
      "outputs": [
        {
          "output_type": "stream",
          "text": [
            "이름을 입력해주세요박기성\n"
          ],
          "name": "stdout"
        },
        {
          "output_type": "execute_result",
          "data": {
            "text/plain": [
              "'환영합니다. 박기성님!'"
            ]
          },
          "metadata": {
            "tags": []
          },
          "execution_count": 3
        }
      ]
    },
    {
      "cell_type": "code",
      "metadata": {
        "id": "LYRcnQbwUmbE",
        "colab_type": "code",
        "colab": {}
      },
      "source": [
        ""
      ],
      "execution_count": 0,
      "outputs": []
    }
  ]
}