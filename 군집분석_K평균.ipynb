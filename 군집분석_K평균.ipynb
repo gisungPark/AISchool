{
  "nbformat": 4,
  "nbformat_minor": 0,
  "metadata": {
    "colab": {
      "name": "군집분석 K평균.ipynb",
      "provenance": [],
      "collapsed_sections": [],
      "authorship_tag": "ABX9TyNa7/lSZLjzDXU8GOX46bXR",
      "include_colab_link": true
    },
    "kernelspec": {
      "name": "python3",
      "display_name": "Python 3"
    }
  },
  "cells": [
    {
      "cell_type": "markdown",
      "metadata": {
        "id": "view-in-github",
        "colab_type": "text"
      },
      "source": [
        "<a href=\"https://colab.research.google.com/github/gisungPark/AISchool/blob/master/%EA%B5%B0%EC%A7%91%EB%B6%84%EC%84%9D_K%ED%8F%89%EA%B7%A0.ipynb\" target=\"_parent\"><img src=\"https://colab.research.google.com/assets/colab-badge.svg\" alt=\"Open In Colab\"/></a>"
      ]
    },
    {
      "cell_type": "markdown",
      "metadata": {
        "id": "R83E3Oq5pUFy",
        "colab_type": "text"
      },
      "source": [
        "### 군집분석\n",
        "- 클래스 레이블이 없는 데이터를 특정 군집으로 묶고자 할 때 활용\n",
        "- K-MEANS 알고리즘은 학계와 산업현장을 가리지 않고 활약\n",
        "- K-MEANS의 무작위 성을 보완하기 위한 K-MEANS++ 기법"
      ]
    },
    {
      "cell_type": "code",
      "metadata": {
        "id": "e39XMAP7eDf2",
        "colab_type": "code",
        "colab": {}
      },
      "source": [
        "from sklearn.datasets import make_blobs"
      ],
      "execution_count": 0,
      "outputs": []
    },
    {
      "cell_type": "code",
      "metadata": {
        "id": "NI_KcFRUfEWP",
        "colab_type": "code",
        "colab": {}
      },
      "source": [
        "X, y = make_blobs(n_samples=150,    #150개\n",
        "                  n_features  = 2,  #2차원\n",
        "                  centers = 3,      #클러스터\n",
        "                  cluster_std = 0.5,#표준편차\n",
        "                  shuffle = True,   #\n",
        "                  random_state = 0)"
      ],
      "execution_count": 0,
      "outputs": []
    },
    {
      "cell_type": "code",
      "metadata": {
        "id": "AjjaxhT4fJ8-",
        "colab_type": "code",
        "colab": {}
      },
      "source": [
        "import matplotlib.pyplot as plt"
      ],
      "execution_count": 0,
      "outputs": []
    },
    {
      "cell_type": "code",
      "metadata": {
        "id": "nHjSpwi1fPxw",
        "colab_type": "code",
        "colab": {
          "base_uri": "https://localhost:8080/",
          "height": 297
        },
        "outputId": "50c85389-55c5-4d86-8988-92df0870a4ae"
      },
      "source": [
        "plt.scatter(X[:,0],\n",
        "            X[:,1],\n",
        "            c='white',\n",
        "            marker = 'o',\n",
        "            edgecolor = 'black',\n",
        "            s=50)\n",
        "plt.grid()\n",
        "plt.tight_layout()\n",
        "plt.show()"
      ],
      "execution_count": 4,
      "outputs": [
        {
          "output_type": "display_data",
          "data": {
            "image/png": "[encoded data removed]",
            "text/plain": [
              "<Figure size 432x288 with 1 Axes>"
            ]
          },
          "metadata": {
            "tags": [],
            "needs_background": "light"
          }
        }
      ]
    },
    {
      "cell_type": "code",
      "metadata": {
        "id": "ULY65wOWf4FG",
        "colab_type": "code",
        "colab": {}
      },
      "source": [
        "from sklearn.cluster import KMeans"
      ],
      "execution_count": 0,
      "outputs": []
    },
    {
      "cell_type": "code",
      "metadata": {
        "id": "fd2fcJBEflRX",
        "colab_type": "code",
        "colab": {}
      },
      "source": [
        "km = KMeans(n_clusters = 3,\n",
        "            init = 'random',\n",
        "            n_init = 10,\n",
        "            max_iter = 300,\n",
        "            tol=1e-04,\n",
        "            random_state = 0\n",
        "            )"
      ],
      "execution_count": 0,
      "outputs": []
    },
    {
      "cell_type": "code",
      "metadata": {
        "id": "lg9aZZEWgNPS",
        "colab_type": "code",
        "colab": {}
      },
      "source": [
        "y_km = km.fit_predict(X)"
      ],
      "execution_count": 0,
      "outputs": []
    },
    {
      "cell_type": "code",
      "metadata": {
        "id": "h0uDtXDTgsRD",
        "colab_type": "code",
        "outputId": "fc135a1f-0ccb-48a1-a71e-c6f246da4a44",
        "colab": {
          "base_uri": "https://localhost:8080/",
          "height": 297
        }
      },
      "source": [
        "plt.scatter(X[y_km == 0,0],\n",
        "            X[y_km == 0,1],\n",
        "            s=50, c='lightgreen',\n",
        "            marker = 's',\n",
        "            edgecolor = 'black',\n",
        "            label = 'cluster 1')\n",
        "\n",
        "plt.scatter(X[y_km == 1,0],\n",
        "            X[y_km == 1,1],\n",
        "            s=50, c='orange',\n",
        "            marker = 'o',\n",
        "            edgecolor = 'black',\n",
        "            label = 'cluster 2')\n",
        "\n",
        "plt.scatter(X[y_km == 2,0],\n",
        "            X[y_km == 2,1],\n",
        "            s=50, c='lightblue',\n",
        "            marker = 'v',\n",
        "            edgecolor = 'black',\n",
        "            label = 'cluster 3')\n",
        "\n",
        "plt.scatter(km.cluster_centers_[:,0],\n",
        "            km.cluster_centers_[:,1],\n",
        "            s=250, c='red',\n",
        "            marker = '*',\n",
        "            edgecolor = 'black',\n",
        "            label = 'centrolds')\n",
        "plt.legend(scatterpoints = 1)\n",
        "plt.grid()\n",
        "plt.tight_layout()\n",
        "plt.show()"
      ],
      "execution_count": 0,
      "outputs": [
        {
          "output_type": "display_data",
          "data": {
            "image/png": "[encoded data removed]",
            "text/plain": [
              "<Figure size 432x288 with 1 Axes>"
            ]
          },
          "metadata": {
            "tags": [],
            "needs_background": "light"
          }
        }
      ]
    },
    {
      "cell_type": "markdown",
      "metadata": {
        "id": "p1VkiAJvh0fc",
        "colab_type": "text"
      },
      "source": [
        "## 군집분석 k평균++"
      ]
    },
    {
      "cell_type": "code",
      "metadata": {
        "id": "PVL9T593iyXN",
        "colab_type": "code",
        "colab": {
          "base_uri": "https://localhost:8080/",
          "height": 297
        },
        "outputId": "4650574c-db6b-47ca-fcda-24d7c27e9bb9"
      },
      "source": [
        "distortions = []\n",
        "for i in range(1,11):\n",
        "  km = KMeans(n_clusters = i,\n",
        "              init = 'k-means++',\n",
        "              n_init = 10,\n",
        "              max_iter = 300,\n",
        "              random_state = 0\n",
        "              )\n",
        "  km.fit(X)\n",
        "  distortions.append(km.inertia_)\n",
        "\n",
        "plt.plot(range(1,11), distortions, marker = 'o')\n",
        "plt.xlabel('Number of clusters')\n",
        "plt.ylabel('Distortion')\n",
        "plt.tight_layout()\n",
        "plt.show()"
      ],
      "execution_count": 14,
      "outputs": [
        {
          "output_type": "display_data",
          "data": {
            "image/png": "[encoded data removed]",
            "text/plain": [
              "<Figure size 432x288 with 1 Axes>"
            ]
          },
          "metadata": {
            "tags": [],
            "needs_background": "light"
          }
        }
      ]
    },
    {
      "cell_type": "markdown",
      "metadata": {
        "id": "iqHF2mt_jqJk",
        "colab_type": "text"
      },
      "source": [
        "### 실루엣 그래프\n",
        "\"클러스터 내 데이터들이 얼마나 조밀하게 모여있는지를 측정하는 그래프 도구\""
      ]
    },
    {
      "cell_type": "code",
      "metadata": {
        "id": "HPzSeRbBkwaY",
        "colab_type": "code",
        "colab": {}
      },
      "source": [
        "import numpy as np\n",
        "from matplotlib import cm\n",
        "from sklearn.metrics import silhouette_samples"
      ],
      "execution_count": 0,
      "outputs": []
    },
    {
      "cell_type": "code",
      "metadata": {
        "id": "S6n2AuZtlqAp",
        "colab_type": "code",
        "colab": {
          "base_uri": "https://localhost:8080/",
          "height": 297
        },
        "outputId": "208a0b87-4f1f-4b0a-8b21-de8357a628bf"
      },
      "source": [
        " km = KMeans(n_clusters = 3,\n",
        "              init = 'k-means++',\n",
        "              n_init = 10,\n",
        "              max_iter = 300,\n",
        "              tol=1e-04,\n",
        "              random_state = 0\n",
        "              )\n",
        " y_km = km.fit_predict(X)\n",
        "\n",
        " cluster_labels = np.unique(y_km)\n",
        " n_clusters = cluster_labels.shape[0]\n",
        "\n",
        "silhouette_vals = silhouette_samples(X, y_km, metric='euclidean')\n",
        "\n",
        "y_ax_lower, y_ax_upper = 0,0 \n",
        "yticks = []\n",
        "for i, c in enumerate(cluster_labels):\n",
        "  c_silhouette_vals = silhouette_vals[y_km == c]\n",
        "  c_silhouette_vals.sort()\n",
        "  y_ax_upper += len(c_silhouette_vals)\n",
        "  color = cm.jet(float(i) / n_clusters)\n",
        "  plt.barh(range(y_ax_lower, y_ax_upper), c_silhouette_vals, height = 1.0,\n",
        "           edgecolor ='none', color = color)\n",
        "  \n",
        "  yticks.append((y_ax_lower + y_ax_upper) / 2.)\n",
        "  y_ax_lower += len(c_silhouette_vals)\n",
        "\n",
        "silhouette_avg = np.mean(silhouette_vals)\n",
        "plt.axvline(silhouette_avg, color = \"red\", linestyle = '--')\n",
        "\n",
        "plt.yticks(yticks, cluster_labels + 1)\n",
        "plt.xlabel('Number of clusters')\n",
        "plt.ylabel('Distortion')\n",
        "\n",
        "plt.tight_layout()\n",
        "plt.show()"
      ],
      "execution_count": 21,
      "outputs": [
        {
          "output_type": "display_data",
          "data": {
            "image/png": "[encoded data removed]",
            "text/plain": [
              "<Figure size 432x288 with 1 Axes>"
            ]
          },
          "metadata": {
            "tags": [],
            "needs_background": "light"
          }
        }
      ]
    },
    {
      "cell_type": "code",
      "metadata": {
        "id": "7fJ7-9iSoCnd",
        "colab_type": "code",
        "colab": {}
      },
      "source": [
        ""
      ],
      "execution_count": 0,
      "outputs": []
    }
  ]
}